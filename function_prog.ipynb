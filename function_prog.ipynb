{
 "cells": [
  {
   "cell_type": "code",
   "execution_count": null,
   "metadata": {},
   "outputs": [],
   "source": [
    "# Q:->create a function to return a list of odd numbers in the users input range\n",
    "#\"def\" keyword is used to create a function \n",
    "def list_odd(user_input):\n",
    "    l1=[]\n",
    "    for i in range(0,user_input):\n",
    "        if i%2 == 0:\n",
    "            l1.append(i)\n",
    "    return l1 \n",
    "user_input = int (input (\"Enter the range to find odd numbers in a list\")) \n",
    "ret_list=list_odd(user_input) \n",
    "print (\"The list of odd numbers is\\n\",ret_list) "
   ]
  },
  {
   "cell_type": "code",
   "execution_count": null,
   "metadata": {},
   "outputs": [],
   "source": [
    "# Q:->why we use *args and **kwargs in some functions and create function for *args and **kwargs and their uses\n",
    "#     *args it stands for \"arguments\" is used when we send a linear input variable size to a function\n",
    "#     we cannot initilize 100 variables for 100 valus we use instead *args  \n",
    "#     **kwargs while it is stands for \"keword arguments\"and is used for non-linear input variable size to a function\n",
    "#     **kwargs especially for dictionary data type and *args for list , tuples etc  "
   ]
  },
  {
   "cell_type": "code",
   "execution_count": null,
   "metadata": {},
   "outputs": [],
   "source": [
    "#programme for trying *args argumets\n",
    "def tryarg(*args):\n",
    "    l=[]\n",
    "    for i in args:\n",
    "        if(i%2==0):\n",
    "           l.append(i)\n",
    "    return l\n",
    "l=tryarg(1,2,3,4,5)\n",
    "print(l)"
   ]
  },
  {
   "cell_type": "code",
   "execution_count": null,
   "metadata": {},
   "outputs": [],
   "source": [
    "#programme for trying **kwargs arguments\n",
    "def trykwargs(**kwargs):\n",
    "    for k,v  in kwargs.items():\n",
    "        print(k,V)\n",
    "    return kwargs\n",
    "trykwargs(a=[1,2,3,4,5],b='hafeez',c=(2,2,3.5))"
   ]
  },
  {
   "cell_type": "code",
   "execution_count": null,
   "metadata": {},
   "outputs": [],
   "source": [
    "# '''An 'iterator' is an object that lets you loop through elements in a collection one at a time.\n",
    "#  It's a way to efficiently access elements in sequences like lists, tuples, strings, dictionaries (keys), and sets\n",
    "# it is a memory efficient way to process element without having to load the entire collection\n",
    "\n",
    "#  in the memory at once'''\n",
    "# '''iter(my_list): method is used to which takes iterable as argument and returns an iterator object \n",
    "# and the method used for iteration is called \"next()\"\n",
    "\n",
    "# programme to print first five elements using iter() method\n",
    "list=[2,4,6,8,10,12,14,16,18,20]\n",
    "my_list = iter (list)\n",
    "print(next(my_list))\n",
    "print(next(my_list))\n",
    "print(next(my_list))\n",
    "print(next(my_list))\n",
    "print(next(my_list))\n",
    "#BY using for loop\n",
    "l1=[2,4,6,8,10,12,14,16,18,20]\n",
    "my_list = iter(l1)\n",
    "for elements in my_list:\n",
    "    print(elements)"
   ]
  },
  {
   "cell_type": "code",
   "execution_count": null,
   "metadata": {},
   "outputs": [],
   "source": [
    "# # A generator function in Python is a function that returns an iterator object. An iterator is an object that \n",
    "# # can be iterated upon, meaning thatyou can loop through it and get each value one at a time.\n",
    "\n",
    "# #  The yield keyword in Python is used in generator functions to create an iterator. A generator function is a  \n",
    "# #  functionthat returns a sequence of values,one at a time, as needed\n",
    "\n",
    "# # A generator function that yields 1 for first time, \n",
    "# # 2 second time and 3 third time \n",
    "def simpleGeneratorFun(): \n",
    "\tyield 1\t\t\t\n",
    "\tyield 2\t\t\t\n",
    "\tyield 3\t\t\t\n",
    "\n",
    "# Driver code to check above generator function \n",
    "for value in simpleGeneratorFun(): \n",
    "\tprint(value)\n",
    "\n",
    "# #programme to create function for prime numbers less than 1000 ,use next() to print 20 numbers\n",
    "def prime_numbers(a):\n",
    "    for i in range(2,a):\n",
    "         for j in range(2,i+1):\n",
    "               if (i%j)==0:\n",
    "                  break\n",
    "         if (i==j):\n",
    "           yield i\n",
    "list_prime = prime_numbers(1000)\n",
    "for i in range(20):\n",
    "    print(next(list_prime),end=\" \")"
   ]
  },
  {
   "cell_type": "code",
   "execution_count": null,
   "metadata": {},
   "outputs": [],
   "source": [
    "# Programme to print first 10 fibonacci number by while loop\n",
    "def fib_number(n):\n",
    "    a,b=1,0\n",
    "    print(b,a,end=\" \")\n",
    "    i=0\n",
    "    while(i<number-2):\n",
    "         c=a+b\n",
    "         yield c\n",
    "         b,a=a,c\n",
    "         i=i+1\n",
    "number = int(input(\"Enter the range of numbers\"))\n",
    "fib=fib_number(num)\n",
    "for i in range(number+1):\n",
    "     print(next(fib),end=\" \")\n"
   ]
  },
  {
   "cell_type": "code",
   "execution_count": null,
   "metadata": {},
   "outputs": [],
   "source": [
    "# Programme on comprehension string\n",
    "str =\"pwskills\"\n",
    "[x for x in str]\n",
    "\n",
    "# Programme on comprehension list to print first 100 odd numbers \n",
    "[x for x in range(1,100) if x%2 ==0] \n",
    "# OR\n",
    "[x for x in range(2,100,2)] "
   ]
  },
  {
   "cell_type": "code",
   "execution_count": 57,
   "metadata": {},
   "outputs": [
    {
     "name": "stdout",
     "output_type": "stream",
     "text": [
      "123 is not a palindrome number\n"
     ]
    }
   ],
   "source": [
    "# programme to find whether a given number is palindrome or not using while loop\n",
    "def palin_number(number):\n",
    "    temp = number\n",
    "    reversed_number = 0\n",
    "    while(number > 0):\n",
    "         a= number % 10\n",
    "         reversed_number = reversed_number * 10 + a\n",
    "         number = number // 10 # b= number//10 and number = b\n",
    "    if (temp == reversed_number):\n",
    "       print(f\"{temp} is palindrome number\")\n",
    "    elif(temp != reversed_number):            \n",
    "        print(\"{} is not a palindrome number\".format(temp))\n",
    "    #print(\"%s is not a palindrome number\"%(temp))\n",
    "number = int(input(\"Entre the number to check a palindrome number\"))\n",
    "palin_number(number)"
   ]
  },
  {
   "cell_type": "code",
   "execution_count": null,
   "metadata": {},
   "outputs": [],
   "source": [
    "#Programme to remove strings and add intigers and float in alist\n",
    "def ret_int(h):\n",
    "    l1=[]\n",
    "    for i in h:\n",
    "        if type(i) == int or type(i)==float:\n",
    "           l1.append(i)\n",
    "    return l1\n",
    "\n",
    "l=ret_int([1,2,3,4,'hafizullah','moomin',[4,5,6],False])\n",
    "print(l)\n",
    "def ret_list(l):\n",
    "    l1=[]\n",
    "    for i in l:\n",
    "        if type(i)==list:\n",
    "            l1.append(i)\n",
    "        else:\n",
    "            if type(i) == int or type(i) == float:\n",
    "                l1.append(i)\n",
    "    return l1\n",
    "ret=ret_list([1,2,3,4,'hafeez','mooomin',[5,6,7],True])\n",
    "print(ret)"
   ]
  }
 ],
 "metadata": {
  "kernelspec": {
   "display_name": "Python 3",
   "language": "python",
   "name": "python3"
  },
  "language_info": {
   "codemirror_mode": {
    "name": "ipython",
    "version": 3
   },
   "file_extension": ".py",
   "mimetype": "text/x-python",
   "name": "python",
   "nbconvert_exporter": "python",
   "pygments_lexer": "ipython3",
   "version": "3.12.3"
  }
 },
 "nbformat": 4,
 "nbformat_minor": 2
}
